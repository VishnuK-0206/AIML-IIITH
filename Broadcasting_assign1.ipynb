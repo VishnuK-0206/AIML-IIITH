{
  "nbformat": 4,
  "nbformat_minor": 0,
  "metadata": {
    "colab": {
      "provenance": [],
      "authorship_tag": "ABX9TyPj2FpTqvzbh5BPTTn14tX8",
      "include_colab_link": true
    },
    "kernelspec": {
      "name": "python3",
      "display_name": "Python 3"
    },
    "language_info": {
      "name": "python"
    }
  },
  "cells": [
    {
      "cell_type": "markdown",
      "metadata": {
        "id": "view-in-github",
        "colab_type": "text"
      },
      "source": [
        "<a href=\"https://colab.research.google.com/github/VishnuK-0206/AIML-IIITH/blob/main/Broadcasting_assign1.ipynb\" target=\"_parent\"><img src=\"https://colab.research.google.com/assets/colab-badge.svg\" alt=\"Open In Colab\"/></a>"
      ]
    },
    {
      "cell_type": "markdown",
      "source": [
        "Numpy Broadcasting"
      ],
      "metadata": {
        "id": "qghkQYtp_1TK"
      }
    },
    {
      "cell_type": "markdown",
      "source": [
        "It allows arrays of different shapes and dimensions to be combined in arithmetic operations without the need for explicit copying or reshaping of data. Broadcasting rules automatically perform element-wise operations between arrays with compatible shapes, making code more concise and efficient."
      ],
      "metadata": {
        "id": "YUOTc741ANlC"
      }
    },
    {
      "cell_type": "markdown",
      "source": [
        "1.Scalar-Array Broadcasting:\n",
        "\n",
        "This involves combining a scalar (single value) with an array of any shape. The scalar value is broadcasted to match the shape of the array, and then element-wise operations are performed."
      ],
      "metadata": {
        "id": "oPFHpj-oAgAK"
      }
    },
    {
      "cell_type": "code",
      "source": [
        "import numpy as np\n",
        "\n",
        "scalar = 5\n",
        "array = np.array([[1, 2], [3, 4]])\n",
        "result = scalar * array\n",
        "print(result)\n"
      ],
      "metadata": {
        "colab": {
          "base_uri": "https://localhost:8080/"
        },
        "id": "0hXEfaClAawS",
        "outputId": "334ec1a1-16db-4977-8a9f-6d42cf5e857b"
      },
      "execution_count": 3,
      "outputs": [
        {
          "output_type": "stream",
          "name": "stdout",
          "text": [
            "[[ 5 10]\n",
            " [15 20]]\n"
          ]
        }
      ]
    },
    {
      "cell_type": "markdown",
      "source": [
        "2.Array-Array Broadcasting:\n",
        "\n",
        "When performing operations between arrays of different shapes, broadcasting can occur if their shapes are compatible. Broadcasting rules dictate how dimensions are expanded to match the shape of the larger array."
      ],
      "metadata": {
        "id": "QscK9zWOAxor"
      }
    },
    {
      "cell_type": "markdown",
      "source": [],
      "metadata": {
        "id": "FrNVJTbuAfQC"
      }
    },
    {
      "cell_type": "code",
      "source": [
        "import numpy as np\n",
        "\n",
        "array1 = np.array([[1, 2, 3]])\n",
        "array2 = np.array([[4], [5]])\n",
        "result = array1 + array2\n",
        "print(result)"
      ],
      "metadata": {
        "colab": {
          "base_uri": "https://localhost:8080/"
        },
        "id": "1hmTqy5gAc-2",
        "outputId": "41fcbc1b-3f08-41ce-df8e-8ac6fcf4bee7"
      },
      "execution_count": 4,
      "outputs": [
        {
          "output_type": "stream",
          "name": "stdout",
          "text": [
            "[[5 6 7]\n",
            " [6 7 8]]\n"
          ]
        }
      ]
    },
    {
      "cell_type": "markdown",
      "source": [
        "3.Higher-Dimensional Broadcasting:\n",
        "\n",
        "Broadcasting extends to higher-dimensional arrays as well. Arrays with different numbers of dimensions can be broadcasted if their trailing dimensions are compatible."
      ],
      "metadata": {
        "id": "17HHO_7LA35S"
      }
    },
    {
      "cell_type": "code",
      "source": [
        "import numpy as np\n",
        "\n",
        "array1 = np.array([[[1, 2], [3, 4]], [[5, 6], [7, 8]]])  # Shape: (2, 2, 2)\n",
        "array2 = np.array([10, 20])                             # Shape: (2,)\n",
        "result = array1 + array2[:, np.newaxis, np.newaxis]\n",
        "print(result)"
      ],
      "metadata": {
        "colab": {
          "base_uri": "https://localhost:8080/"
        },
        "id": "d_u2THm2A2_-",
        "outputId": "057e84b2-adc9-45b4-c447-98b635eca65e"
      },
      "execution_count": 5,
      "outputs": [
        {
          "output_type": "stream",
          "name": "stdout",
          "text": [
            "[[[11 12]\n",
            "  [13 14]]\n",
            "\n",
            " [[25 26]\n",
            "  [27 28]]]\n"
          ]
        }
      ]
    },
    {
      "cell_type": "code",
      "source": [],
      "metadata": {
        "id": "bChBJTMQA_yp"
      },
      "execution_count": null,
      "outputs": []
    }
  ]
}